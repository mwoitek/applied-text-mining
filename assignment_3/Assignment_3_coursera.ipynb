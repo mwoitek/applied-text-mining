{
 "cells": [
  {
   "cell_type": "markdown",
   "metadata": {},
   "source": [
    "---\n",
    "\n",
    "_You are currently looking at **version 1.1** of this notebook. To download notebooks and datafiles, as well as get help on Jupyter notebooks in the Coursera platform, visit the [Jupyter Notebook FAQ](https://www.coursera.org/learn/python-text-mining/resources/d9pwm) course resource._\n",
    "\n",
    "---"
   ]
  },
  {
   "cell_type": "markdown",
   "metadata": {},
   "source": [
    "# Assignment 3\n",
    "\n",
    "In this assignment you will explore text message data and create models to predict if a message is spam or not. "
   ]
  },
  {
   "cell_type": "code",
   "execution_count": 1,
   "metadata": {},
   "outputs": [
    {
     "data": {
      "text/html": [
       "<div>\n",
       "<style>\n",
       "    .dataframe thead tr:only-child th {\n",
       "        text-align: right;\n",
       "    }\n",
       "\n",
       "    .dataframe thead th {\n",
       "        text-align: left;\n",
       "    }\n",
       "\n",
       "    .dataframe tbody tr th {\n",
       "        vertical-align: top;\n",
       "    }\n",
       "</style>\n",
       "<table border=\"1\" class=\"dataframe\">\n",
       "  <thead>\n",
       "    <tr style=\"text-align: right;\">\n",
       "      <th></th>\n",
       "      <th>text</th>\n",
       "      <th>target</th>\n",
       "    </tr>\n",
       "  </thead>\n",
       "  <tbody>\n",
       "    <tr>\n",
       "      <th>0</th>\n",
       "      <td>Go until jurong point, crazy.. Available only ...</td>\n",
       "      <td>0</td>\n",
       "    </tr>\n",
       "    <tr>\n",
       "      <th>1</th>\n",
       "      <td>Ok lar... Joking wif u oni...</td>\n",
       "      <td>0</td>\n",
       "    </tr>\n",
       "    <tr>\n",
       "      <th>2</th>\n",
       "      <td>Free entry in 2 a wkly comp to win FA Cup fina...</td>\n",
       "      <td>1</td>\n",
       "    </tr>\n",
       "    <tr>\n",
       "      <th>3</th>\n",
       "      <td>U dun say so early hor... U c already then say...</td>\n",
       "      <td>0</td>\n",
       "    </tr>\n",
       "    <tr>\n",
       "      <th>4</th>\n",
       "      <td>Nah I don't think he goes to usf, he lives aro...</td>\n",
       "      <td>0</td>\n",
       "    </tr>\n",
       "    <tr>\n",
       "      <th>5</th>\n",
       "      <td>FreeMsg Hey there darling it's been 3 week's n...</td>\n",
       "      <td>1</td>\n",
       "    </tr>\n",
       "    <tr>\n",
       "      <th>6</th>\n",
       "      <td>Even my brother is not like to speak with me. ...</td>\n",
       "      <td>0</td>\n",
       "    </tr>\n",
       "    <tr>\n",
       "      <th>7</th>\n",
       "      <td>As per your request 'Melle Melle (Oru Minnamin...</td>\n",
       "      <td>0</td>\n",
       "    </tr>\n",
       "    <tr>\n",
       "      <th>8</th>\n",
       "      <td>WINNER!! As a valued network customer you have...</td>\n",
       "      <td>1</td>\n",
       "    </tr>\n",
       "    <tr>\n",
       "      <th>9</th>\n",
       "      <td>Had your mobile 11 months or more? U R entitle...</td>\n",
       "      <td>1</td>\n",
       "    </tr>\n",
       "  </tbody>\n",
       "</table>\n",
       "</div>"
      ],
      "text/plain": [
       "                                                text  target\n",
       "0  Go until jurong point, crazy.. Available only ...       0\n",
       "1                      Ok lar... Joking wif u oni...       0\n",
       "2  Free entry in 2 a wkly comp to win FA Cup fina...       1\n",
       "3  U dun say so early hor... U c already then say...       0\n",
       "4  Nah I don't think he goes to usf, he lives aro...       0\n",
       "5  FreeMsg Hey there darling it's been 3 week's n...       1\n",
       "6  Even my brother is not like to speak with me. ...       0\n",
       "7  As per your request 'Melle Melle (Oru Minnamin...       0\n",
       "8  WINNER!! As a valued network customer you have...       1\n",
       "9  Had your mobile 11 months or more? U R entitle...       1"
      ]
     },
     "execution_count": 1,
     "metadata": {},
     "output_type": "execute_result"
    }
   ],
   "source": [
    "import numpy as np\n",
    "import pandas as pd\n",
    "from scipy.sparse import csr_matrix, hstack\n",
    "from sklearn.feature_extraction.text import CountVectorizer, TfidfVectorizer\n",
    "from sklearn.linear_model import LogisticRegression\n",
    "from sklearn.metrics import roc_auc_score\n",
    "from sklearn.model_selection import train_test_split\n",
    "from sklearn.naive_bayes import MultinomialNB\n",
    "from sklearn.svm import SVC\n",
    "\n",
    "\n",
    "# Read the data into a DataFrame:\n",
    "spam_data = pd.read_csv('spam.csv')\n",
    "\n",
    "# Transform the 'target' column.\n",
    "# If the message is spam, this column will contain 1. Otherwise, it'll contain 0.\n",
    "spam_data['target'] = np.where(spam_data['target'] == 'spam', 1, 0)\n",
    "\n",
    "# Print the first 10 rows of spam_data:\n",
    "spam_data.head(10)"
   ]
  },
  {
   "cell_type": "code",
   "execution_count": 2,
   "metadata": {
    "collapsed": true
   },
   "outputs": [],
   "source": [
    "# Split the data into training and test sets:\n",
    "X_train, X_test, y_train, y_test = train_test_split(\n",
    "    spam_data['text'],\n",
    "    spam_data['target'],\n",
    "    random_state=0\n",
    ")\n",
    "\n",
    "# Get some info on the objects defined above:\n",
    "\n",
    "# print(f'type(X_train) = {type(X_train)}')\n",
    "# print(f'type(X_test) = {type(X_test)}')\n",
    "# print(f'type(y_train) = {type(y_train)}')\n",
    "# print(f'type(y_test) = {type(y_test)}\\n')\n",
    "\n",
    "# print(f'X_train.size = {X_train.size}')\n",
    "# print(f'X_test.size = {X_test.size}')\n",
    "# print(f'y_train.size = {y_train.size}')\n",
    "# print(f'y_test.size = {y_test.size}')"
   ]
  },
  {
   "cell_type": "markdown",
   "metadata": {},
   "source": [
    "### Question 1\n",
    "What percentage of the documents in `spam_data` are spam?\n",
    "\n",
    "*This function should return a float, the percent value (i.e. $ratio * 100$).*"
   ]
  },
  {
   "cell_type": "code",
   "execution_count": 3,
   "metadata": {
    "collapsed": true
   },
   "outputs": [],
   "source": [
    "def answer_one():\n",
    "\n",
    "    # Compute the total number of documents:\n",
    "    num_docs = spam_data.shape[0]\n",
    "\n",
    "    # Compute the number of documents labelled as 'spam':\n",
    "    num_spam = spam_data['target'].sum()\n",
    "\n",
    "    # Compute the percentage:\n",
    "    percent = 100 * (num_spam / num_docs)\n",
    "\n",
    "    # Testing:\n",
    "    assert type(percent) == np.float_\n",
    "\n",
    "    return percent"
   ]
  },
  {
   "cell_type": "code",
   "execution_count": 4,
   "metadata": {},
   "outputs": [
    {
     "data": {
      "text/plain": [
       "13.406317300789663"
      ]
     },
     "execution_count": 4,
     "metadata": {},
     "output_type": "execute_result"
    }
   ],
   "source": [
    "answer_one()"
   ]
  },
  {
   "cell_type": "markdown",
   "metadata": {},
   "source": [
    "### Question 2\n",
    "\n",
    "Fit the training data `X_train` using a Count Vectorizer with default parameters.\n",
    "\n",
    "What is the longest token in the vocabulary?\n",
    "\n",
    "*This function should return a string.*"
   ]
  },
  {
   "cell_type": "code",
   "execution_count": 5,
   "metadata": {
    "collapsed": true
   },
   "outputs": [],
   "source": [
    "def answer_two():\n",
    "\n",
    "    # Fit the CountVectorizer to the training data.\n",
    "    # Learn a vocabulary dictionary of all tokens in X_train.\n",
    "    vectorizer = CountVectorizer().fit(X_train)\n",
    "\n",
    "    # Get the unique tokens in the training data:\n",
    "    uniq_toks = np.array(vectorizer.get_feature_names())\n",
    "\n",
    "    # Find the longest token:\n",
    "    longest = uniq_toks[(np.vectorize(len)(uniq_toks)).argmax()]\n",
    "\n",
    "    # Testing:\n",
    "    assert type(longest) == np.str_\n",
    "\n",
    "    return longest"
   ]
  },
  {
   "cell_type": "code",
   "execution_count": 6,
   "metadata": {},
   "outputs": [
    {
     "data": {
      "text/plain": [
       "'com1win150ppmx3age16subscription'"
      ]
     },
     "execution_count": 6,
     "metadata": {},
     "output_type": "execute_result"
    }
   ],
   "source": [
    "answer_two()"
   ]
  },
  {
   "cell_type": "markdown",
   "metadata": {},
   "source": [
    "### Question 3\n",
    "\n",
    "Fit and transform the training data `X_train` using a Count Vectorizer with default parameters.\n",
    "\n",
    "Next, fit a fit a multinomial Naive Bayes classifier model with smoothing `alpha=0.1`. Find the area under the curve (AUC) score using the transformed test data.\n",
    "\n",
    "*This function should return the AUC score as a float.*"
   ]
  },
  {
   "cell_type": "code",
   "execution_count": 7,
   "metadata": {
    "collapsed": true
   },
   "outputs": [],
   "source": [
    "def answer_three():\n",
    "\n",
    "    # Fit the CountVectorizer to the training data.\n",
    "    # Learn a vocabulary dictionary of all tokens in X_train.\n",
    "    vectorizer = CountVectorizer().fit(X_train)\n",
    "\n",
    "    # Transform the documents in the training data to a document-term matrix.\n",
    "    # Extract token counts using the vocabulary fitted with 'fit'.\n",
    "    # X_train_vect[i, j] = Number of occurrences of the j-th token in the i-th document\n",
    "    X_train_vect = vectorizer.transform(X_train)\n",
    "\n",
    "    # A few tests, just to understand what's going on here:\n",
    "\n",
    "    # Number of rows of X_train_vect = Number of documents in the training data\n",
    "    assert X_train_vect.shape[0] == X_train.size\n",
    "\n",
    "    # Number of columns of X_train_vect = Number of unique tokens in the training data\n",
    "    assert X_train_vect.shape[1] == len(vectorizer.get_feature_names())\n",
    "\n",
    "    # Train a multinomial Naive Bayes classifier model with smoothing alpha = 0.1:\n",
    "    model = MultinomialNB(alpha=0.1)\n",
    "    model.fit(X_train_vect, y_train)\n",
    "\n",
    "    # Transform the documents in the test data to a document-term matrix:\n",
    "    X_test_vect = vectorizer.transform(X_test)\n",
    "\n",
    "    # A few tests, just to understand what's going on here:\n",
    "\n",
    "    # Number of rows of X_test_vect = Number of documents in the test data\n",
    "    assert X_test_vect.shape[0] == X_test.size\n",
    "\n",
    "    # Number of columns of X_test_vect = Number of unique tokens in the training data\n",
    "    assert X_test_vect.shape[1] == X_train_vect.shape[1]\n",
    "\n",
    "    # Use the trained model to perform classification on the test documents:\n",
    "    predictions = model.predict(X_test_vect)\n",
    "\n",
    "    # Compute the AUC score:\n",
    "    auc = roc_auc_score(y_test, predictions)\n",
    "\n",
    "    # NOTE:\n",
    "    # The last command is incorrect. Specifically, the second argument of roc_auc_score is wrong.\n",
    "    # However, this incorrect code is what the autograder expects. This is why I didn't fix the above command.\n",
    "    # But it's important to register here the correct version of this command.\n",
    "    # The right way to compute the AUC score is as follows:\n",
    "    # auc = roc_auc_score(y_test, model.predict_proba(X_test_vect)[:, 1])\n",
    "\n",
    "    # Testing:\n",
    "    assert type(auc) == np.float_\n",
    "\n",
    "    return auc"
   ]
  },
  {
   "cell_type": "code",
   "execution_count": 8,
   "metadata": {},
   "outputs": [
    {
     "data": {
      "text/plain": [
       "0.97208121827411165"
      ]
     },
     "execution_count": 8,
     "metadata": {},
     "output_type": "execute_result"
    }
   ],
   "source": [
    "answer_three()"
   ]
  },
  {
   "cell_type": "markdown",
   "metadata": {},
   "source": [
    "### Question 4\n",
    "\n",
    "Fit and transform the training data `X_train` using a Tfidf Vectorizer with default parameters.\n",
    "\n",
    "What 20 features have the smallest tf-idf and what 20 have the largest tf-idf?\n",
    "\n",
    "Put these features in a two series where each series is sorted by tf-idf value and then alphabetically by feature name. The index of the series should be the feature name, and the data should be the tf-idf.\n",
    "\n",
    "The series of 20 features with smallest tf-idfs should be sorted smallest tfidf first, the list of 20 features with largest tf-idfs should be sorted largest first. \n",
    "\n",
    "*This function should return a tuple of two series\n",
    "`(smallest tf-idfs series, largest tf-idfs series)`.*"
   ]
  },
  {
   "cell_type": "code",
   "execution_count": 9,
   "metadata": {
    "collapsed": true
   },
   "outputs": [],
   "source": [
    "def answer_four():\n",
    "\n",
    "    # Fit the TfidfVectorizer to the training data.\n",
    "    # Learn vocabulary and idf from X_train.\n",
    "    vectorizer = TfidfVectorizer().fit(X_train)\n",
    "\n",
    "    # Get the unique tokens in the training data:\n",
    "    uniq_toks = np.array(vectorizer.get_feature_names())\n",
    "\n",
    "    # Transform the documents in the training data to a document-term matrix.\n",
    "    # Use the vocabulary and document frequencies (df) learned by 'fit'.\n",
    "    # X_train_vect[i, j] = tf-idf for the j-th token in the i-th document\n",
    "    X_train_vect = vectorizer.transform(X_train)\n",
    "\n",
    "    # Get the maximum tf-idf for every unique token in the training data:\n",
    "    max_tfidf = X_train_vect.max(axis=0).toarray()[0]\n",
    "\n",
    "    # A few tests, just to understand what's going on here:\n",
    "\n",
    "    # Number of rows of X_train_vect = Number of documents in the training data\n",
    "    assert X_train_vect.shape[0] == X_train.size\n",
    "\n",
    "    # Number of columns of X_train_vect = Number of unique tokens in the training data\n",
    "    assert X_train_vect.shape[1] == uniq_toks.size\n",
    "\n",
    "    # The vector max_tfidf has an entry for every unique token:\n",
    "    assert max_tfidf.size == uniq_toks.size\n",
    "    assert max_tfidf.shape == (uniq_toks.size,)\n",
    "\n",
    "    # Indices for putting the entries of max_tfidf in ascending order:\n",
    "    idx = max_tfidf.argsort()\n",
    "\n",
    "    # Get the 20 tokens with the smallest tf-idfs:\n",
    "    smallest = (\n",
    "        pd.DataFrame(data={'token': uniq_toks[idx[:20]], 'tfidf': max_tfidf[idx[:20]]})\n",
    "        .sort_values(by=['tfidf', 'token'])\n",
    "        .set_index('token')\n",
    "        .loc[:, 'tfidf']\n",
    "    )\n",
    "    smallest.index.name = None\n",
    "    smallest.name = None\n",
    "\n",
    "    # Get the 20 tokens with the largest tf-idfs:\n",
    "    largest = (\n",
    "        pd.DataFrame(data={'token': uniq_toks[idx[-20:]], 'tfidf': max_tfidf[idx[-20:]]})\n",
    "        .sort_values(by=['tfidf', 'token'], ascending=[False, True])\n",
    "        .set_index('token')\n",
    "        .loc[:, 'tfidf']\n",
    "    )\n",
    "    largest.index.name = None\n",
    "    largest.name = None\n",
    "\n",
    "    # Testing:\n",
    "    assert type(smallest) == pd.core.series.Series\n",
    "    assert type(largest) == pd.core.series.Series\n",
    "\n",
    "    return (smallest, largest)"
   ]
  },
  {
   "cell_type": "code",
   "execution_count": 10,
   "metadata": {},
   "outputs": [
    {
     "data": {
      "text/plain": [
       "(aaniye          0.074475\n",
       " athletic        0.074475\n",
       " chef            0.074475\n",
       " companion       0.074475\n",
       " courageous      0.074475\n",
       " dependable      0.074475\n",
       " determined      0.074475\n",
       " exterminator    0.074475\n",
       " healer          0.074475\n",
       " listener        0.074475\n",
       " organizer       0.074475\n",
       " pest            0.074475\n",
       " psychiatrist    0.074475\n",
       " psychologist    0.074475\n",
       " pudunga         0.074475\n",
       " stylist         0.074475\n",
       " sympathetic     0.074475\n",
       " venaam          0.074475\n",
       " diwali          0.091250\n",
       " mornings        0.091250\n",
       " dtype: float64, 146tf150p    1.000000\n",
       " 645          1.000000\n",
       " anything     1.000000\n",
       " anytime      1.000000\n",
       " beerage      1.000000\n",
       " done         1.000000\n",
       " er           1.000000\n",
       " havent       1.000000\n",
       " home         1.000000\n",
       " lei          1.000000\n",
       " nite         1.000000\n",
       " ok           1.000000\n",
       " okie         1.000000\n",
       " thank        1.000000\n",
       " thanx        1.000000\n",
       " too          1.000000\n",
       " where        1.000000\n",
       " yup          1.000000\n",
       " tick         0.980166\n",
       " blank        0.932702\n",
       " dtype: float64)"
      ]
     },
     "execution_count": 10,
     "metadata": {},
     "output_type": "execute_result"
    }
   ],
   "source": [
    "answer_four()"
   ]
  },
  {
   "cell_type": "markdown",
   "metadata": {},
   "source": [
    "### Question 5\n",
    "\n",
    "Fit and transform the training data `X_train` using a Tfidf Vectorizer ignoring terms that have a document frequency strictly lower than **3**.\n",
    "\n",
    "Then fit a multinomial Naive Bayes classifier model with smoothing `alpha=0.1` and compute the area under the curve (AUC) score using the transformed test data.\n",
    "\n",
    "*This function should return the AUC score as a float.*"
   ]
  },
  {
   "cell_type": "code",
   "execution_count": 11,
   "metadata": {
    "collapsed": true
   },
   "outputs": [],
   "source": [
    "def answer_five():\n",
    "\n",
    "    # Fit the TfidfVectorizer to the training data:\n",
    "    vectorizer = TfidfVectorizer(min_df=3).fit(X_train)\n",
    "\n",
    "    # Transform the documents in the training data to a document-term matrix:\n",
    "    X_train_vect = vectorizer.transform(X_train)\n",
    "\n",
    "    # Train a multinomial Naive Bayes classifier model with smoothing alpha = 0.1:\n",
    "    model = MultinomialNB(alpha=0.1)\n",
    "    model.fit(X_train_vect, y_train)\n",
    "\n",
    "    # Transform the documents in the test data to a document-term matrix:\n",
    "    X_test_vect = vectorizer.transform(X_test)\n",
    "\n",
    "    # Use the trained model to perform classification on the test documents:\n",
    "    predictions = model.predict(X_test_vect)\n",
    "\n",
    "    # Compute the AUC score:\n",
    "    auc = roc_auc_score(y_test, predictions)\n",
    "\n",
    "    # NOTE:\n",
    "    # The last command is incorrect. Specifically, the second argument of roc_auc_score is wrong.\n",
    "    # However, this incorrect code is what the autograder expects. This is why I didn't fix the above command.\n",
    "    # But it's important to register here the correct version of this command.\n",
    "    # The right way to compute the AUC score is as follows:\n",
    "    # auc = roc_auc_score(y_test, model.predict_proba(X_test_vect)[:, 1])\n",
    "\n",
    "    # Testing:\n",
    "    assert type(auc) == np.float_\n",
    "\n",
    "    return auc"
   ]
  },
  {
   "cell_type": "code",
   "execution_count": 12,
   "metadata": {},
   "outputs": [
    {
     "data": {
      "text/plain": [
       "0.94162436548223349"
      ]
     },
     "execution_count": 12,
     "metadata": {},
     "output_type": "execute_result"
    }
   ],
   "source": [
    "answer_five()"
   ]
  },
  {
   "cell_type": "markdown",
   "metadata": {},
   "source": [
    "### Question 6\n",
    "\n",
    "What is the average length of documents (number of characters) for not spam and spam documents?\n",
    "\n",
    "*This function should return a tuple (average length not spam, average length spam).*"
   ]
  },
  {
   "cell_type": "code",
   "execution_count": 13,
   "metadata": {
    "collapsed": true
   },
   "outputs": [],
   "source": [
    "def answer_six():\n",
    "\n",
    "    # Compute the average length of the documents labelled as 'not spam':\n",
    "    avg_not_spam = spam_data[spam_data['target'] == 0].loc[:, 'text'].str.len().mean()\n",
    "\n",
    "    # Compute the average length of the documents labelled as 'spam':\n",
    "    avg_spam = spam_data[spam_data['target'] == 1].loc[:, 'text'].str.len().mean()\n",
    "\n",
    "    # Testing:\n",
    "    assert type(avg_not_spam) == np.float_\n",
    "    assert type(avg_spam) == np.float_\n",
    "\n",
    "    return (avg_not_spam, avg_spam)"
   ]
  },
  {
   "cell_type": "code",
   "execution_count": 14,
   "metadata": {},
   "outputs": [
    {
     "data": {
      "text/plain": [
       "(71.023626943005183, 138.8661311914324)"
      ]
     },
     "execution_count": 14,
     "metadata": {},
     "output_type": "execute_result"
    }
   ],
   "source": [
    "answer_six()"
   ]
  },
  {
   "cell_type": "markdown",
   "metadata": {},
   "source": [
    "<br>\n",
    "<br>\n",
    "The following function has been provided to help you combine new features into the training data:"
   ]
  },
  {
   "cell_type": "code",
   "execution_count": 15,
   "metadata": {
    "collapsed": true
   },
   "outputs": [],
   "source": [
    "def add_feature(X, feature_to_add):\n",
    "    \"\"\"Return sparse feature matrix with added feature.\n",
    "       feature_to_add can also be a list of features.\"\"\"\n",
    "    return hstack([X, csr_matrix(feature_to_add).T], 'csr')"
   ]
  },
  {
   "cell_type": "markdown",
   "metadata": {},
   "source": [
    "### Question 7\n",
    "\n",
    "Fit and transform the training data X_train using a Tfidf Vectorizer ignoring terms that have a document frequency strictly lower than **5**.\n",
    "\n",
    "Using this document-term matrix and an additional feature, **the length of document (number of characters)**, fit a Support Vector Classification model with regularization `C=10000`. Then compute the area under the curve (AUC) score using the transformed test data.\n",
    "\n",
    "*This function should return the AUC score as a float.*"
   ]
  },
  {
   "cell_type": "code",
   "execution_count": 16,
   "metadata": {
    "collapsed": true
   },
   "outputs": [],
   "source": [
    "def answer_seven():\n",
    "\n",
    "    # Fit the TfidfVectorizer to the training data:\n",
    "    vectorizer = TfidfVectorizer(min_df=5).fit(X_train)\n",
    "\n",
    "    # Transform the documents in the training data to a document-term matrix:\n",
    "    X_train_vect = vectorizer.transform(X_train)\n",
    "\n",
    "    # Compute and add the new feature:\n",
    "    X_train_vect_new_feat = add_feature(X_train_vect, X_train.str.len())\n",
    "\n",
    "    # Fit a Support Vector Classification model with regularization C = 10000:\n",
    "    model = SVC(C=10000)\n",
    "    model.fit(X_train_vect_new_feat, y_train)\n",
    "\n",
    "    # Transform the documents in the test data to a document-term matrix.\n",
    "    # Compute and add the new feature.\n",
    "    X_test_vect = vectorizer.transform(X_test)\n",
    "    X_test_vect_new_feat = add_feature(X_test_vect, X_test.str.len())\n",
    "\n",
    "    # Use the trained model to perform classification on the test documents:\n",
    "    predictions = model.predict(X_test_vect_new_feat)\n",
    "\n",
    "    # Compute the AUC score:\n",
    "    auc = roc_auc_score(y_test, predictions)\n",
    "\n",
    "    # NOTE:\n",
    "    # The last command is incorrect. Specifically, the second argument of roc_auc_score is wrong.\n",
    "    # However, this incorrect code is what the autograder expects. This is why I didn't fix the above command.\n",
    "    # But it's important to register here the correct version of this command.\n",
    "    # The right way to compute the AUC score is as follows:\n",
    "    # auc = roc_auc_score(y_test, model.decision_function(X_test_vect_new_feat))\n",
    "\n",
    "    # Testing:\n",
    "    assert type(auc) == np.float_\n",
    "\n",
    "    return auc"
   ]
  },
  {
   "cell_type": "code",
   "execution_count": 17,
   "metadata": {},
   "outputs": [
    {
     "data": {
      "text/plain": [
       "0.95813668234215565"
      ]
     },
     "execution_count": 17,
     "metadata": {},
     "output_type": "execute_result"
    }
   ],
   "source": [
    "answer_seven()"
   ]
  },
  {
   "cell_type": "markdown",
   "metadata": {},
   "source": [
    "### Question 8\n",
    "\n",
    "What is the average number of digits per document for not spam and spam documents?\n",
    "\n",
    "*This function should return a tuple (average # digits not spam, average # digits spam).*"
   ]
  },
  {
   "cell_type": "code",
   "execution_count": 18,
   "metadata": {
    "collapsed": true
   },
   "outputs": [],
   "source": [
    "def answer_eight():\n",
    "\n",
    "    # Compute the average number of digits for the documents labelled as 'not spam':\n",
    "    avg_not_spam = spam_data[spam_data['target'] == 0].loc[:, 'text'].str.count(r'\\d{1}').mean()\n",
    "\n",
    "    # Compute the average number of digits for the documents labelled as 'spam':\n",
    "    avg_spam = spam_data[spam_data['target'] == 1].loc[:, 'text'].str.count(r'\\d{1}').mean()\n",
    "\n",
    "    # Testing:\n",
    "    assert type(avg_not_spam) == np.float_\n",
    "    assert type(avg_spam) == np.float_\n",
    "\n",
    "    return (avg_not_spam, avg_spam)"
   ]
  },
  {
   "cell_type": "code",
   "execution_count": 19,
   "metadata": {},
   "outputs": [
    {
     "data": {
      "text/plain": [
       "(0.29927461139896372, 15.759036144578314)"
      ]
     },
     "execution_count": 19,
     "metadata": {},
     "output_type": "execute_result"
    }
   ],
   "source": [
    "answer_eight()"
   ]
  },
  {
   "cell_type": "markdown",
   "metadata": {},
   "source": [
    "### Question 9\n",
    "\n",
    "Fit and transform the training data `X_train` using a Tfidf Vectorizer ignoring terms that have a document frequency strictly lower than **5** and using **word n-grams from n=1 to n=3** (unigrams, bigrams, and trigrams).\n",
    "\n",
    "Using this document-term matrix and the following additional features:\n",
    "* the length of document (number of characters)\n",
    "* **number of digits per document**\n",
    "\n",
    "fit a Logistic Regression model with regularization `C=100`. Then compute the area under the curve (AUC) score using the transformed test data.\n",
    "\n",
    "*This function should return the AUC score as a float.*"
   ]
  },
  {
   "cell_type": "code",
   "execution_count": 20,
   "metadata": {
    "collapsed": true
   },
   "outputs": [],
   "source": [
    "def answer_nine():\n",
    "\n",
    "    # Fit the TfidfVectorizer to the training data:\n",
    "    vectorizer = TfidfVectorizer(min_df=5, ngram_range=(1, 3)).fit(X_train)\n",
    "\n",
    "    # Transform the documents in the training data to a document-term matrix:\n",
    "    X_train_vect = vectorizer.transform(X_train)\n",
    "\n",
    "    # Compute and add the new features:\n",
    "    new_feats = [X_train.str.len(), X_train.str.count(r'\\d{1}')]\n",
    "    X_train_vect_new_feats = add_feature(X_train_vect, new_feats)\n",
    "\n",
    "    # Fit a Logistic Regression model with regularization C = 100:\n",
    "    model = LogisticRegression(C=100)\n",
    "    model.fit(X_train_vect_new_feats, y_train)\n",
    "\n",
    "    # Transform the documents in the test data to a document-term matrix.\n",
    "    # Compute and add the new features.\n",
    "    X_test_vect = vectorizer.transform(X_test)\n",
    "    new_feats = [X_test.str.len(), X_test.str.count(r'\\d{1}')]\n",
    "    X_test_vect_new_feats = add_feature(X_test_vect, new_feats)\n",
    "\n",
    "    # Use the trained model to perform classification on the test documents:\n",
    "    predictions = model.predict(X_test_vect_new_feats)\n",
    "\n",
    "    # Compute the AUC score:\n",
    "    auc = roc_auc_score(y_test, predictions)\n",
    "\n",
    "    # NOTE:\n",
    "    # The last command is incorrect. Specifically, the second argument of roc_auc_score is wrong.\n",
    "    # However, this incorrect code is what the autograder expects. This is why I didn't fix the above command.\n",
    "    # But it's important to register here the correct version of this command.\n",
    "    # The right way to compute the AUC score is as follows:\n",
    "    # auc = roc_auc_score(y_test, model.decision_function(X_test_vect_new_feats))\n",
    "\n",
    "    # Testing:\n",
    "    assert type(auc) == np.float_\n",
    "\n",
    "    return auc"
   ]
  },
  {
   "cell_type": "code",
   "execution_count": 21,
   "metadata": {},
   "outputs": [
    {
     "data": {
      "text/plain": [
       "0.96533283533945646"
      ]
     },
     "execution_count": 21,
     "metadata": {},
     "output_type": "execute_result"
    }
   ],
   "source": [
    "answer_nine()"
   ]
  },
  {
   "cell_type": "markdown",
   "metadata": {},
   "source": [
    "### Question 10\n",
    "\n",
    "What is the average number of non-word characters (anything other than a letter, digit or underscore) per document for not spam and spam documents?\n",
    "\n",
    "*Hint: Use `\\w` and `\\W` character classes*\n",
    "\n",
    "*This function should return a tuple (average # non-word characters not spam, average # non-word characters spam).*"
   ]
  },
  {
   "cell_type": "code",
   "execution_count": 22,
   "metadata": {
    "collapsed": true
   },
   "outputs": [],
   "source": [
    "def answer_ten():\n",
    "\n",
    "    # Compute the average number of non-word characters for the documents labelled as 'not spam':\n",
    "    avg_not_spam = spam_data[spam_data['target'] == 0].loc[:, 'text'].str.count(r'\\W{1}').mean()\n",
    "\n",
    "    # Compute the average number of non-word characters for the documents labelled as 'spam':\n",
    "    avg_spam = spam_data[spam_data['target'] == 1].loc[:, 'text'].str.count(r'\\W{1}').mean()\n",
    "\n",
    "    # Testing:\n",
    "    assert type(avg_not_spam) == np.float_\n",
    "    assert type(avg_spam) == np.float_\n",
    "\n",
    "    return (avg_not_spam, avg_spam)"
   ]
  },
  {
   "cell_type": "code",
   "execution_count": 23,
   "metadata": {},
   "outputs": [
    {
     "data": {
      "text/plain": [
       "(17.291813471502589, 29.041499330655956)"
      ]
     },
     "execution_count": 23,
     "metadata": {},
     "output_type": "execute_result"
    }
   ],
   "source": [
    "answer_ten()"
   ]
  },
  {
   "cell_type": "markdown",
   "metadata": {},
   "source": [
    "### Question 11\n",
    "\n",
    "Fit and transform the training data X_train using a Count Vectorizer ignoring terms that have a document frequency strictly lower than **5** and using **character n-grams from n=2 to n=5.**\n",
    "\n",
    "To tell Count Vectorizer to use character n-grams pass in `analyzer='char_wb'` which creates character n-grams only from text inside word boundaries. This should make the model more robust to spelling mistakes.\n",
    "\n",
    "Using this document-term matrix and the following additional features:\n",
    "* the length of document (number of characters)\n",
    "* number of digits per document\n",
    "* **number of non-word characters (anything other than a letter, digit or underscore.)**\n",
    "\n",
    "fit a Logistic Regression model with regularization C=100. Then compute the area under the curve (AUC) score using the transformed test data.\n",
    "\n",
    "Also **find the 10 smallest and 10 largest coefficients from the model** and return them along with the AUC score in a tuple.\n",
    "\n",
    "The list of 10 smallest coefficients should be sorted smallest first, the list of 10 largest coefficients should be sorted largest first.\n",
    "\n",
    "The three features that were added to the document term matrix should have the following names should they appear in the list of coefficients:\n",
    "['length_of_doc', 'digit_count', 'non_word_char_count']\n",
    "\n",
    "*This function should return a tuple `(AUC score as a float, smallest coefs list, largest coefs list)`.*"
   ]
  },
  {
   "cell_type": "code",
   "execution_count": 24,
   "metadata": {
    "collapsed": true
   },
   "outputs": [],
   "source": [
    "def answer_eleven():\n",
    "\n",
    "    # Fit the CountVectorizer to the training data:\n",
    "    vectorizer = CountVectorizer(min_df=5, ngram_range=(2, 5), analyzer='char_wb').fit(X_train)\n",
    "\n",
    "    # Transform the documents in the training data to a document-term matrix:\n",
    "    X_train_vect = vectorizer.transform(X_train)\n",
    "\n",
    "    # Compute and add the new features:\n",
    "    new_feats = [X_train.str.len(), X_train.str.count(r'\\d{1}'), X_train.str.count(r'\\W{1}')]\n",
    "    X_train_vect_new_feats = add_feature(X_train_vect, new_feats)\n",
    "\n",
    "    # Fit a Logistic Regression model with regularization C = 100:\n",
    "    model = LogisticRegression(C=100)\n",
    "    model.fit(X_train_vect_new_feats, y_train)\n",
    "\n",
    "    # Transform the documents in the test data to a document-term matrix.\n",
    "    # Compute and add the new features.\n",
    "    X_test_vect = vectorizer.transform(X_test)\n",
    "    new_feats = [X_test.str.len(), X_test.str.count(r'\\d{1}'), X_test.str.count(r'\\W{1}')]\n",
    "    X_test_vect_new_feats = add_feature(X_test_vect, new_feats)\n",
    "\n",
    "    # Use the trained model to perform classification on the test documents:\n",
    "    predictions = model.predict(X_test_vect_new_feats)\n",
    "\n",
    "    # Compute the AUC score:\n",
    "    auc = roc_auc_score(y_test, predictions)\n",
    "\n",
    "    # NOTE:\n",
    "    # The last command is incorrect. Specifically, the second argument of roc_auc_score is wrong.\n",
    "    # However, this incorrect code is what the autograder expects. This is why I didn't fix the above command.\n",
    "    # But it's important to register here the correct version of this command.\n",
    "    # The right way to compute the AUC score is as follows:\n",
    "    # auc = roc_auc_score(y_test, model.predict_proba(X_test_vect_new_feats)[:, 1])\n",
    "\n",
    "    # Create a Series containing all of the model's coefficients, and put them in ascending order:\n",
    "    coeffs = pd.Series(\n",
    "        data=model.coef_[0],\n",
    "        index=vectorizer.get_feature_names() + ['length_of_doc', 'digit_count', 'non_word_char_count']\n",
    "    ).sort_values()\n",
    "\n",
    "    # Find the 10 smallest coefficients:\n",
    "    smallest = coeffs.iloc[:10]\n",
    "\n",
    "    # Find the 10 largest coefficients:\n",
    "    largest = coeffs.iloc[-10:].sort_values(ascending=False)\n",
    "\n",
    "    # Testing:\n",
    "    assert type(auc) == np.float_\n",
    "    assert type(smallest) == pd.core.series.Series\n",
    "    assert type(largest) == pd.core.series.Series\n",
    "\n",
    "    return (auc, smallest, largest)"
   ]
  },
  {
   "cell_type": "code",
   "execution_count": 25,
   "metadata": {},
   "outputs": [
    {
     "data": {
      "text/plain": [
       "(0.97885931107074342, .     -0.869753\n",
       " ..    -0.860883\n",
       " ?     -0.676982\n",
       "  i    -0.667004\n",
       "  y    -0.614901\n",
       "  go   -0.579590\n",
       " :)    -0.535074\n",
       "  h    -0.505766\n",
       " go    -0.498507\n",
       "  m    -0.490960\n",
       " dtype: float64, digit_count    1.212230\n",
       " ne             0.597778\n",
       " ia             0.541483\n",
       " co             0.538766\n",
       " xt             0.521487\n",
       "  ch            0.520351\n",
       " mob            0.517868\n",
       "  x             0.516096\n",
       " ww             0.508671\n",
       " ar             0.502644\n",
       " dtype: float64)"
      ]
     },
     "execution_count": 25,
     "metadata": {},
     "output_type": "execute_result"
    }
   ],
   "source": [
    "answer_eleven()"
   ]
  }
 ],
 "metadata": {
  "coursera": {
   "course_slug": "python-text-mining",
   "graded_item_id": "Pn19K",
   "launcher_item_id": "y1juS",
   "part_id": "ctlgo"
  },
  "kernelspec": {
   "display_name": "Python 3",
   "language": "python",
   "name": "python3"
  },
  "language_info": {
   "codemirror_mode": {
    "name": "ipython",
    "version": 3
   },
   "file_extension": ".py",
   "mimetype": "text/x-python",
   "name": "python",
   "nbconvert_exporter": "python",
   "pygments_lexer": "ipython3",
   "version": "3.6.2"
  }
 },
 "nbformat": 4,
 "nbformat_minor": 2
}
