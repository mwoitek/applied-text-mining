{
 "cells": [
  {
   "cell_type": "markdown",
   "metadata": {},
   "source": [
    "# Assignment 3\n",
    "\n",
    "In this assignment you will explore text message data and create models to\n",
    "predict if a message is spam or not.\n"
   ]
  },
  {
   "cell_type": "code",
   "execution_count": 1,
   "metadata": {
    "lines_to_next_cell": 2
   },
   "outputs": [
    {
     "data": {
      "text/html": [
       "<div>\n",
       "<style scoped>\n",
       "    .dataframe tbody tr th:only-of-type {\n",
       "        vertical-align: middle;\n",
       "    }\n",
       "\n",
       "    .dataframe tbody tr th {\n",
       "        vertical-align: top;\n",
       "    }\n",
       "\n",
       "    .dataframe thead th {\n",
       "        text-align: right;\n",
       "    }\n",
       "</style>\n",
       "<table border=\"1\" class=\"dataframe\">\n",
       "  <thead>\n",
       "    <tr style=\"text-align: right;\">\n",
       "      <th></th>\n",
       "      <th>text</th>\n",
       "      <th>target</th>\n",
       "    </tr>\n",
       "  </thead>\n",
       "  <tbody>\n",
       "    <tr>\n",
       "      <th>0</th>\n",
       "      <td>Go until jurong point, crazy.. Available only ...</td>\n",
       "      <td>0</td>\n",
       "    </tr>\n",
       "    <tr>\n",
       "      <th>1</th>\n",
       "      <td>Ok lar... Joking wif u oni...</td>\n",
       "      <td>0</td>\n",
       "    </tr>\n",
       "    <tr>\n",
       "      <th>2</th>\n",
       "      <td>Free entry in 2 a wkly comp to win FA Cup fina...</td>\n",
       "      <td>1</td>\n",
       "    </tr>\n",
       "    <tr>\n",
       "      <th>3</th>\n",
       "      <td>U dun say so early hor... U c already then say...</td>\n",
       "      <td>0</td>\n",
       "    </tr>\n",
       "    <tr>\n",
       "      <th>4</th>\n",
       "      <td>Nah I don't think he goes to usf, he lives aro...</td>\n",
       "      <td>0</td>\n",
       "    </tr>\n",
       "    <tr>\n",
       "      <th>5</th>\n",
       "      <td>FreeMsg Hey there darling it's been 3 week's n...</td>\n",
       "      <td>1</td>\n",
       "    </tr>\n",
       "    <tr>\n",
       "      <th>6</th>\n",
       "      <td>Even my brother is not like to speak with me. ...</td>\n",
       "      <td>0</td>\n",
       "    </tr>\n",
       "    <tr>\n",
       "      <th>7</th>\n",
       "      <td>As per your request 'Melle Melle (Oru Minnamin...</td>\n",
       "      <td>0</td>\n",
       "    </tr>\n",
       "    <tr>\n",
       "      <th>8</th>\n",
       "      <td>WINNER!! As a valued network customer you have...</td>\n",
       "      <td>1</td>\n",
       "    </tr>\n",
       "    <tr>\n",
       "      <th>9</th>\n",
       "      <td>Had your mobile 11 months or more? U R entitle...</td>\n",
       "      <td>1</td>\n",
       "    </tr>\n",
       "  </tbody>\n",
       "</table>\n",
       "</div>"
      ],
      "text/plain": [
       "                                                text  target\n",
       "0  Go until jurong point, crazy.. Available only ...       0\n",
       "1                      Ok lar... Joking wif u oni...       0\n",
       "2  Free entry in 2 a wkly comp to win FA Cup fina...       1\n",
       "3  U dun say so early hor... U c already then say...       0\n",
       "4  Nah I don't think he goes to usf, he lives aro...       0\n",
       "5  FreeMsg Hey there darling it's been 3 week's n...       1\n",
       "6  Even my brother is not like to speak with me. ...       0\n",
       "7  As per your request 'Melle Melle (Oru Minnamin...       0\n",
       "8  WINNER!! As a valued network customer you have...       1\n",
       "9  Had your mobile 11 months or more? U R entitle...       1"
      ]
     },
     "execution_count": 1,
     "metadata": {},
     "output_type": "execute_result"
    }
   ],
   "source": [
    "import numpy as np\n",
    "import pandas as pd\n",
    "from scipy.sparse import csr_matrix, hstack\n",
    "from sklearn.feature_extraction.text import CountVectorizer, TfidfVectorizer\n",
    "from sklearn.linear_model import LogisticRegression\n",
    "from sklearn.metrics import roc_auc_score\n",
    "from sklearn.model_selection import train_test_split\n",
    "from sklearn.naive_bayes import MultinomialNB\n",
    "from sklearn.svm import SVC\n",
    "\n",
    "\n",
    "# Read the data into a DataFrame:\n",
    "spam_data = pd.read_csv('spam.csv')\n",
    "\n",
    "# Transform the 'target' column.\n",
    "# If the message is spam, this column will contain 1. Otherwise, it'll contain 0.\n",
    "spam_data['target'] = np.where(spam_data['target'] == 'spam', 1, 0)\n",
    "\n",
    "# Print the first 10 rows of spam_data:\n",
    "spam_data.head(10)"
   ]
  },
  {
   "cell_type": "code",
   "execution_count": 2,
   "metadata": {
    "lines_to_next_cell": 2
   },
   "outputs": [],
   "source": [
    "# Split the data into training and test sets:\n",
    "X_train, X_test, y_train, y_test = train_test_split(\n",
    "    spam_data['text'],\n",
    "    spam_data['target'],\n",
    "    random_state=0\n",
    ")\n",
    "\n",
    "# Get some info on the objects defined above:\n",
    "\n",
    "# print(f'type(X_train) = {type(X_train)}')\n",
    "# print(f'type(X_test) = {type(X_test)}')\n",
    "# print(f'type(y_train) = {type(y_train)}')\n",
    "# print(f'type(y_test) = {type(y_test)}\\n')\n",
    "\n",
    "# print(f'X_train.size = {X_train.size}')\n",
    "# print(f'X_test.size = {X_test.size}')\n",
    "# print(f'y_train.size = {y_train.size}')\n",
    "# print(f'y_test.size = {y_test.size}')"
   ]
  },
  {
   "cell_type": "markdown",
   "metadata": {},
   "source": [
    "## Question 1\n",
    "\n",
    "What percentage of the documents in `spam_data` are spam?\n",
    "\n",
    "*This function should return a float.*\n"
   ]
  },
  {
   "cell_type": "code",
   "execution_count": 3,
   "metadata": {
    "lines_to_next_cell": 2
   },
   "outputs": [],
   "source": [
    "def answer_one():\n",
    "\n",
    "    # Compute the total number of documents:\n",
    "    num_docs = spam_data.shape[0]\n",
    "\n",
    "    # Compute the number of documents labelled as 'spam':\n",
    "    num_spam = spam_data['target'].sum()\n",
    "\n",
    "    # Compute the percentage:\n",
    "    percent = 100 * (num_spam / num_docs)\n",
    "\n",
    "    # Testing:\n",
    "    assert type(percent) == np.float_\n",
    "\n",
    "    return percent"
   ]
  },
  {
   "cell_type": "code",
   "execution_count": 4,
   "metadata": {
    "lines_to_next_cell": 2
   },
   "outputs": [
    {
     "data": {
      "text/plain": [
       "13.406317300789663"
      ]
     },
     "execution_count": 4,
     "metadata": {},
     "output_type": "execute_result"
    }
   ],
   "source": [
    "answer_one()"
   ]
  },
  {
   "cell_type": "markdown",
   "metadata": {},
   "source": [
    "## Question 2\n",
    "\n",
    "Fit the training data `X_train` using a `CountVectorizer` with default\n",
    "parameters.\n",
    "\n",
    "What is the longest token in the vocabulary?\n",
    "\n",
    "*This function should return a string.*\n"
   ]
  },
  {
   "cell_type": "code",
   "execution_count": 5,
   "metadata": {
    "lines_to_next_cell": 2
   },
   "outputs": [],
   "source": [
    "def answer_two():\n",
    "\n",
    "    # Fit the CountVectorizer to the training data.\n",
    "    # Learn a vocabulary dictionary of all tokens in X_train.\n",
    "    vectorizer = CountVectorizer().fit(X_train)\n",
    "\n",
    "    # Get the unique tokens in the training data:\n",
    "    uniq_toks = np.array(vectorizer.get_feature_names())\n",
    "\n",
    "    # Find the longest token:\n",
    "    longest = uniq_toks[(np.vectorize(len)(uniq_toks)).argmax()]\n",
    "\n",
    "    # Testing:\n",
    "    assert type(longest) == np.str_\n",
    "\n",
    "    return longest"
   ]
  },
  {
   "cell_type": "code",
   "execution_count": 6,
   "metadata": {
    "lines_to_next_cell": 2
   },
   "outputs": [
    {
     "data": {
      "text/plain": [
       "'com1win150ppmx3age16subscription'"
      ]
     },
     "execution_count": 6,
     "metadata": {},
     "output_type": "execute_result"
    }
   ],
   "source": [
    "answer_two()"
   ]
  },
  {
   "cell_type": "markdown",
   "metadata": {},
   "source": [
    "## Question 3\n",
    "\n",
    "Fit and transform the training data `X_train` using a `CountVectorizer` with\n",
    "default parameters.\n",
    "\n",
    "Next, fit a multinomial Naive Bayes classifier model with smoothing\n",
    "\\\\( \\alpha = 0.1 \\\\). Find the area under the curve\n",
    "[(AUC)](https://developers.google.com/machine-learning/crash-course/classification/roc-and-auc)\n",
    "score using the transformed test data.\n",
    "\n",
    "*This function should return the AUC score as a float.*\n"
   ]
  },
  {
   "cell_type": "code",
   "execution_count": 7,
   "metadata": {
    "lines_to_next_cell": 2
   },
   "outputs": [],
   "source": [
    "def answer_three():\n",
    "\n",
    "    # Fit the CountVectorizer to the training data.\n",
    "    # Learn a vocabulary dictionary of all tokens in X_train.\n",
    "    vectorizer = CountVectorizer().fit(X_train)\n",
    "\n",
    "    # Transform the documents in the training data to a document-term matrix.\n",
    "    # Extract token counts using the vocabulary fitted with 'fit'.\n",
    "    # X_train_vect[i, j] = Number of occurrences of the j-th token in the i-th document\n",
    "    X_train_vect = vectorizer.transform(X_train)\n",
    "\n",
    "    # A few tests, just to understand what's going on here:\n",
    "\n",
    "    # Number of rows of X_train_vect = Number of documents in the training data\n",
    "    assert X_train_vect.shape[0] == X_train.size\n",
    "\n",
    "    # Number of columns of X_train_vect = Number of unique tokens in the training data\n",
    "    assert X_train_vect.shape[1] == len(vectorizer.get_feature_names())\n",
    "\n",
    "    # Train a multinomial Naive Bayes classifier model with smoothing alpha = 0.1:\n",
    "    model = MultinomialNB(alpha=0.1)\n",
    "    model.fit(X_train_vect, y_train)\n",
    "\n",
    "    # Transform the documents in the test data to a document-term matrix:\n",
    "    X_test_vect = vectorizer.transform(X_test)\n",
    "\n",
    "    # A few tests, just to understand what's going on here:\n",
    "\n",
    "    # Number of rows of X_test_vect = Number of documents in the test data\n",
    "    assert X_test_vect.shape[0] == X_test.size\n",
    "\n",
    "    # Number of columns of X_test_vect = Number of unique tokens in the training data\n",
    "    assert X_test_vect.shape[1] == X_train_vect.shape[1]\n",
    "\n",
    "    # Use the trained model to perform classification on the test documents:\n",
    "    predictions = model.predict(X_test_vect)\n",
    "\n",
    "    # Compute the AUC score:\n",
    "    auc = roc_auc_score(y_test, predictions)\n",
    "\n",
    "    # NOTE:\n",
    "    # The last command is incorrect. Specifically, the second argument of roc_auc_score is wrong.\n",
    "    # However, this incorrect code is what the autograder expects. This is why I didn't fix the above command.\n",
    "    # But it's important to register here the correct version of this command.\n",
    "    # The right way to compute the AUC score is as follows:\n",
    "    # auc = roc_auc_score(y_test, model.predict_proba(X_test_vect)[:, 1])\n",
    "\n",
    "    # Testing:\n",
    "    assert type(auc) == np.float_\n",
    "\n",
    "    return auc"
   ]
  },
  {
   "cell_type": "code",
   "execution_count": 8,
   "metadata": {
    "lines_to_next_cell": 2
   },
   "outputs": [
    {
     "data": {
      "text/plain": [
       "0.9720812182741116"
      ]
     },
     "execution_count": 8,
     "metadata": {},
     "output_type": "execute_result"
    }
   ],
   "source": [
    "answer_three()"
   ]
  },
  {
   "cell_type": "markdown",
   "metadata": {},
   "source": [
    "## Question 4\n",
    "\n",
    "Fit and transform the training data `X_train` using a `TfidfVectorizer` with\n",
    "default parameters.\n",
    "\n",
    "What 20 features have the smallest tf-idf, and what 20 have the largest tf-idf?\n",
    "\n",
    "Put these features in two Series, where each Series is sorted by tf-idf value\n",
    "and then alphabetically by feature name. The index of the Series should be the\n",
    "feature name, and the data should be the tf-idf.\n",
    "\n",
    "The Series of 20 features with the smallest tf-idfs should be sorted with the\n",
    "smallest tf-idf first, and the Series of 20 features with the largest tf-idfs\n",
    "should be sorted with the largest tf-idf first.\n",
    "\n",
    "*This function should return a tuple of Series\n",
    "`(smallest tf-idfs Series, largest tf-idfs Series)`.*\n"
   ]
  },
  {
   "cell_type": "code",
   "execution_count": 9,
   "metadata": {
    "lines_to_next_cell": 2
   },
   "outputs": [],
   "source": [
    "def answer_four():\n",
    "\n",
    "    # Fit the TfidfVectorizer to the training data.\n",
    "    # Learn vocabulary and idf from X_train.\n",
    "    vectorizer = TfidfVectorizer().fit(X_train)\n",
    "\n",
    "    # Get the unique tokens in the training data:\n",
    "    uniq_toks = np.array(vectorizer.get_feature_names())\n",
    "\n",
    "    # Transform the documents in the training data to a document-term matrix.\n",
    "    # Use the vocabulary and document frequencies (df) learned by 'fit'.\n",
    "    # X_train_vect[i, j] = tf-idf for the j-th token in the i-th document\n",
    "    X_train_vect = vectorizer.transform(X_train)\n",
    "\n",
    "    # Get the maximum tf-idf for every unique token in the training data:\n",
    "    max_tfidf = X_train_vect.max(axis=0).toarray()[0]\n",
    "\n",
    "    # A few tests, just to understand what's going on here:\n",
    "\n",
    "    # Number of rows of X_train_vect = Number of documents in the training data\n",
    "    assert X_train_vect.shape[0] == X_train.size\n",
    "\n",
    "    # Number of columns of X_train_vect = Number of unique tokens in the training data\n",
    "    assert X_train_vect.shape[1] == uniq_toks.size\n",
    "\n",
    "    # The vector max_tfidf has an entry for every unique token:\n",
    "    assert max_tfidf.size == uniq_toks.size\n",
    "    assert max_tfidf.shape == (uniq_toks.size,)\n",
    "\n",
    "    # Indices for putting the entries of max_tfidf in ascending order:\n",
    "    idx = max_tfidf.argsort()\n",
    "\n",
    "    # Get the 20 tokens with the smallest tf-idfs:\n",
    "    smallest = (\n",
    "        pd.DataFrame(data={'token': uniq_toks[idx[:20]], 'tfidf': max_tfidf[idx[:20]]})\n",
    "        .sort_values(by=['tfidf', 'token'])\n",
    "        .set_index('token')\n",
    "        .loc[:, 'tfidf']\n",
    "    )\n",
    "    smallest.index.name = None\n",
    "    smallest.name = None\n",
    "\n",
    "    # Get the 20 tokens with the largest tf-idfs:\n",
    "    largest = (\n",
    "        pd.DataFrame(data={'token': uniq_toks[idx[-20:]], 'tfidf': max_tfidf[idx[-20:]]})\n",
    "        .sort_values(by=['tfidf', 'token'], ascending=[False, True])\n",
    "        .set_index('token')\n",
    "        .loc[:, 'tfidf']\n",
    "    )\n",
    "    largest.index.name = None\n",
    "    largest.name = None\n",
    "\n",
    "    # Testing:\n",
    "    assert type(smallest) == pd.core.series.Series\n",
    "    assert type(largest) == pd.core.series.Series\n",
    "\n",
    "    return (smallest, largest)"
   ]
  },
  {
   "cell_type": "code",
   "execution_count": 10,
   "metadata": {
    "lines_to_next_cell": 2
   },
   "outputs": [
    {
     "data": {
      "text/plain": [
       "(aaniye          0.074475\n",
       " athletic        0.074475\n",
       " chef            0.074475\n",
       " companion       0.074475\n",
       " courageous      0.074475\n",
       " dependable      0.074475\n",
       " determined      0.074475\n",
       " exterminator    0.074475\n",
       " healer          0.074475\n",
       " listener        0.074475\n",
       " organizer       0.074475\n",
       " pest            0.074475\n",
       " psychiatrist    0.074475\n",
       " psychologist    0.074475\n",
       " pudunga         0.074475\n",
       " stylist         0.074475\n",
       " sympathetic     0.074475\n",
       " venaam          0.074475\n",
       " diwali          0.091250\n",
       " mornings        0.091250\n",
       " dtype: float64,\n",
       " 146tf150p    1.000000\n",
       " 645          1.000000\n",
       " anything     1.000000\n",
       " anytime      1.000000\n",
       " beerage      1.000000\n",
       " done         1.000000\n",
       " er           1.000000\n",
       " havent       1.000000\n",
       " home         1.000000\n",
       " lei          1.000000\n",
       " nite         1.000000\n",
       " ok           1.000000\n",
       " okie         1.000000\n",
       " thank        1.000000\n",
       " thanx        1.000000\n",
       " too          1.000000\n",
       " where        1.000000\n",
       " yup          1.000000\n",
       " tick         0.980166\n",
       " blank        0.932702\n",
       " dtype: float64)"
      ]
     },
     "execution_count": 10,
     "metadata": {},
     "output_type": "execute_result"
    }
   ],
   "source": [
    "answer_four()"
   ]
  },
  {
   "cell_type": "markdown",
   "metadata": {},
   "source": [
    "## Question 5\n",
    "\n",
    "Fit and transform the training data `X_train` using a `TfidfVectorizer` ignoring\n",
    "terms that have a document frequency strictly lower than **3**.\n",
    "\n",
    "Then fit a multinomial Naive Bayes classifier model with smoothing\n",
    "\\\\( \\alpha = 0.1 \\\\) and compute the area under the curve (AUC) score using the\n",
    "transformed test data.\n",
    "\n",
    "*This function should return the AUC score as a float.*\n"
   ]
  },
  {
   "cell_type": "code",
   "execution_count": 11,
   "metadata": {
    "lines_to_next_cell": 2
   },
   "outputs": [],
   "source": [
    "def answer_five():\n",
    "\n",
    "    # Fit the TfidfVectorizer to the training data:\n",
    "    vectorizer = TfidfVectorizer(min_df=3).fit(X_train)\n",
    "\n",
    "    # Transform the documents in the training data to a document-term matrix:\n",
    "    X_train_vect = vectorizer.transform(X_train)\n",
    "\n",
    "    # Train a multinomial Naive Bayes classifier model with smoothing alpha = 0.1:\n",
    "    model = MultinomialNB(alpha=0.1)\n",
    "    model.fit(X_train_vect, y_train)\n",
    "\n",
    "    # Transform the documents in the test data to a document-term matrix:\n",
    "    X_test_vect = vectorizer.transform(X_test)\n",
    "\n",
    "    # Use the trained model to perform classification on the test documents:\n",
    "    predictions = model.predict(X_test_vect)\n",
    "\n",
    "    # Compute the AUC score:\n",
    "    auc = roc_auc_score(y_test, predictions)\n",
    "\n",
    "    # NOTE:\n",
    "    # The last command is incorrect. Specifically, the second argument of roc_auc_score is wrong.\n",
    "    # However, this incorrect code is what the autograder expects. This is why I didn't fix the above command.\n",
    "    # But it's important to register here the correct version of this command.\n",
    "    # The right way to compute the AUC score is as follows:\n",
    "    # auc = roc_auc_score(y_test, model.predict_proba(X_test_vect)[:, 1])\n",
    "\n",
    "    # Testing:\n",
    "    assert type(auc) == np.float_\n",
    "\n",
    "    return auc"
   ]
  },
  {
   "cell_type": "code",
   "execution_count": 12,
   "metadata": {
    "lines_to_next_cell": 2
   },
   "outputs": [
    {
     "data": {
      "text/plain": [
       "0.9416243654822335"
      ]
     },
     "execution_count": 12,
     "metadata": {},
     "output_type": "execute_result"
    }
   ],
   "source": [
    "answer_five()"
   ]
  },
  {
   "cell_type": "markdown",
   "metadata": {},
   "source": [
    "## Question 6\n",
    "\n",
    "What is the average length of documents (number of characters) for not spam and\n",
    "spam documents?\n",
    "\n",
    "*This function should return a tuple `(average_length_not_spam, average_length_spam)`.*\n"
   ]
  },
  {
   "cell_type": "code",
   "execution_count": 13,
   "metadata": {
    "lines_to_next_cell": 2
   },
   "outputs": [],
   "source": [
    "def answer_six():\n",
    "\n",
    "    # Compute the average length of the documents labelled as 'not spam':\n",
    "    avg_not_spam = spam_data[spam_data['target'] == 0].loc[:, 'text'].str.len().mean()\n",
    "\n",
    "    # Compute the average length of the documents labelled as 'spam':\n",
    "    avg_spam = spam_data[spam_data['target'] == 1].loc[:, 'text'].str.len().mean()\n",
    "\n",
    "    # Testing:\n",
    "    assert type(avg_not_spam) == np.float_\n",
    "    assert type(avg_spam) == np.float_\n",
    "\n",
    "    return (avg_not_spam, avg_spam)"
   ]
  },
  {
   "cell_type": "code",
   "execution_count": 14,
   "metadata": {
    "lines_to_next_cell": 2
   },
   "outputs": [
    {
     "data": {
      "text/plain": [
       "(71.02362694300518, 138.8661311914324)"
      ]
     },
     "execution_count": 14,
     "metadata": {},
     "output_type": "execute_result"
    }
   ],
   "source": [
    "answer_six()"
   ]
  },
  {
   "cell_type": "markdown",
   "metadata": {},
   "source": [
    "The following function has been provided to help you combine new features into\n",
    "the training data:\n"
   ]
  },
  {
   "cell_type": "code",
   "execution_count": 15,
   "metadata": {
    "lines_to_next_cell": 2
   },
   "outputs": [],
   "source": [
    "def add_feature(X, feature_to_add):\n",
    "    \"\"\"Return sparse feature matrix with added feature.\n",
    "       feature_to_add can also be a list of features.\"\"\"\n",
    "    return hstack([X, csr_matrix(feature_to_add).T], 'csr')"
   ]
  },
  {
   "cell_type": "markdown",
   "metadata": {},
   "source": [
    "## Question 7\n",
    "\n",
    "Fit and transform the training data `X_train` using a `TfidfVectorizer` ignoring\n",
    "terms that have a document frequency strictly lower than **5**.\n",
    "\n",
    "Using this document-term matrix and an additional feature, **the length of\n",
    "document (number of characters)**, fit a Support Vector Classification model\n",
    "with regularization \\\\( C = 10000 \\\\). Then compute the area under the curve\n",
    "(AUC) score using the transformed test data.\n",
    "\n",
    "*This function should return the AUC score as a float.*\n"
   ]
  },
  {
   "cell_type": "code",
   "execution_count": 16,
   "metadata": {
    "lines_to_next_cell": 2
   },
   "outputs": [],
   "source": [
    "def answer_seven():\n",
    "\n",
    "    # Fit the TfidfVectorizer to the training data:\n",
    "    vectorizer = TfidfVectorizer(min_df=5).fit(X_train)\n",
    "\n",
    "    # Transform the documents in the training data to a document-term matrix:\n",
    "    X_train_vect = vectorizer.transform(X_train)\n",
    "\n",
    "    # Compute and add the new feature:\n",
    "    X_train_vect_new_feat = add_feature(X_train_vect, X_train.str.len())\n",
    "\n",
    "    # Fit a Support Vector Classification model with regularization C = 10000:\n",
    "    model = SVC(C=10000)\n",
    "    model.fit(X_train_vect_new_feat, y_train)\n",
    "\n",
    "    # Transform the documents in the test data to a document-term matrix.\n",
    "    # Compute and add the new feature.\n",
    "    X_test_vect = vectorizer.transform(X_test)\n",
    "    X_test_vect_new_feat = add_feature(X_test_vect, X_test.str.len())\n",
    "\n",
    "    # Use the trained model to perform classification on the test documents:\n",
    "    predictions = model.predict(X_test_vect_new_feat)\n",
    "\n",
    "    # Compute the AUC score:\n",
    "    auc = roc_auc_score(y_test, predictions)\n",
    "\n",
    "    # NOTE:\n",
    "    # The last command is incorrect. Specifically, the second argument of roc_auc_score is wrong.\n",
    "    # However, this incorrect code is what the autograder expects. This is why I didn't fix the above command.\n",
    "    # But it's important to register here the correct version of this command.\n",
    "    # The right way to compute the AUC score is as follows:\n",
    "    # auc = roc_auc_score(y_test, model.decision_function(X_test_vect_new_feat))\n",
    "\n",
    "    # Testing:\n",
    "    assert type(auc) == np.float_\n",
    "\n",
    "    return auc"
   ]
  },
  {
   "cell_type": "code",
   "execution_count": 17,
   "metadata": {
    "lines_to_next_cell": 2
   },
   "outputs": [
    {
     "data": {
      "text/plain": [
       "0.9661689557407943"
      ]
     },
     "execution_count": 17,
     "metadata": {},
     "output_type": "execute_result"
    }
   ],
   "source": [
    "answer_seven()"
   ]
  },
  {
   "cell_type": "markdown",
   "metadata": {},
   "source": [
    "## Question 8\n",
    "\n",
    "What is the average number of digits per document for not spam and spam\n",
    "documents?\n",
    "\n",
    "*This function should return a tuple (average # digits not spam, average # digits spam).*\n"
   ]
  },
  {
   "cell_type": "code",
   "execution_count": null,
   "metadata": {
    "lines_to_next_cell": 2
   },
   "outputs": [],
   "source": [
    "def answer_eight():\n",
    "    return 0"
   ]
  },
  {
   "cell_type": "code",
   "execution_count": null,
   "metadata": {
    "lines_to_next_cell": 2
   },
   "outputs": [],
   "source": [
    "answer_eight()"
   ]
  },
  {
   "cell_type": "markdown",
   "metadata": {},
   "source": [
    "## Question 9\n",
    "\n",
    "Fit and transform the training data `X_train` using a Tfidf Vectorizer ignoring terms that have a document frequency strictly lower than **5** and using **word n-grams from n=1 to n=3** (unigrams, bigrams, and trigrams).\n",
    "\n",
    "Using this document-term matrix and the following additional features:\n",
    "* the length of document (number of characters)\n",
    "* **number of digits per document**\n",
    "\n",
    "fit a Logistic Regression model with regularization `C=100`. Then compute the area under the curve (AUC) score using the transformed test data.\n",
    "\n",
    "*This function should return the AUC score as a float.*"
   ]
  },
  {
   "cell_type": "code",
   "execution_count": null,
   "metadata": {},
   "outputs": [],
   "source": [
    "\n",
    "def answer_nine():\n",
    "\n",
    "\n",
    "    return #Your answer here"
   ]
  },
  {
   "cell_type": "code",
   "execution_count": null,
   "metadata": {},
   "outputs": [],
   "source": [
    "answer_nine()"
   ]
  },
  {
   "cell_type": "markdown",
   "metadata": {},
   "source": [
    "### Question 10\n",
    "\n",
    "What is the average number of non-word characters (anything other than a letter, digit or underscore) per document for not spam and spam documents?\n",
    "\n",
    "*Hint: Use `\\w` and `\\W` character classes*\n",
    "\n",
    "*This function should return a tuple (average # non-word characters not spam, average # non-word characters spam).*"
   ]
  },
  {
   "cell_type": "code",
   "execution_count": null,
   "metadata": {},
   "outputs": [],
   "source": [
    "def answer_ten():\n",
    "\n",
    "\n",
    "    return #Your answer here"
   ]
  },
  {
   "cell_type": "code",
   "execution_count": null,
   "metadata": {},
   "outputs": [],
   "source": [
    "answer_ten()"
   ]
  },
  {
   "cell_type": "markdown",
   "metadata": {},
   "source": [
    "### Question 11\n",
    "\n",
    "Fit and transform the training data X_train using a Count Vectorizer ignoring terms that have a document frequency strictly lower than **5** and using **character n-grams from n=2 to n=5.**\n",
    "\n",
    "To tell Count Vectorizer to use character n-grams pass in `analyzer='char_wb'` which creates character n-grams only from text inside word boundaries. This should make the model more robust to spelling mistakes.\n",
    "\n",
    "Using this document-term matrix and the following additional features:\n",
    "* the length of document (number of characters)\n",
    "* number of digits per document\n",
    "* **number of non-word characters (anything other than a letter, digit or underscore.)**\n",
    "\n",
    "fit a Logistic Regression model with regularization C=100. Then compute the area under the curve (AUC) score using the transformed test data.\n",
    "\n",
    "Also **find the 10 smallest and 10 largest coefficients from the model** and return them along with the AUC score in a tuple.\n",
    "\n",
    "The list of 10 smallest coefficients should be sorted smallest first, the list of 10 largest coefficients should be sorted largest first.\n",
    "\n",
    "The three features that were added to the document term matrix should have the following names should they appear in the list of coefficients:\n",
    "['length_of_doc', 'digit_count', 'non_word_char_count']\n",
    "\n",
    "*This function should return a tuple `(AUC score as a float, smallest coefs list, largest coefs list)`.*"
   ]
  },
  {
   "cell_type": "code",
   "execution_count": null,
   "metadata": {},
   "outputs": [],
   "source": [
    "def answer_eleven():\n",
    "\n",
    "\n",
    "    return #Your answer here"
   ]
  },
  {
   "cell_type": "code",
   "execution_count": null,
   "metadata": {},
   "outputs": [],
   "source": [
    "answer_eleven()"
   ]
  }
 ],
 "metadata": {
  "coursera": {
   "course_slug": "python-text-mining",
   "graded_item_id": "Pn19K",
   "launcher_item_id": "y1juS",
   "part_id": "ctlgo"
  },
  "jupytext": {
   "formats": "ipynb,Rmd"
  },
  "kernelspec": {
   "display_name": "Python 3",
   "language": "python",
   "name": "python3"
  },
  "language_info": {
   "codemirror_mode": {
    "name": "ipython",
    "version": 3
   },
   "file_extension": ".py",
   "mimetype": "text/x-python",
   "name": "python",
   "nbconvert_exporter": "python",
   "pygments_lexer": "ipython3",
   "version": "3.8.6"
  }
 },
 "nbformat": 4,
 "nbformat_minor": 2
}
